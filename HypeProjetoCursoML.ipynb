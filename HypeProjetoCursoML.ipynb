{
 "cells": [
  {
   "cell_type": "markdown",
   "metadata": {
    "id": "XNDaL5OtggrF"
   },
   "source": [
    "## Apresentação "
   ]
  },
  {
   "cell_type": "markdown",
   "metadata": {
    "id": "mJ4TsGkhgqe4"
   },
   "source": [
    "Olá, participante! Estamos muito felizes por você ter participado do \n",
    "nosso curso de Machine Learning! Porém, para ser um profissional que faz um bom uso das técnicas de Machine Learning, não basta conhecer as teorias e os conceitos de diferentes técnicas. É necessário aplicá-las, ou seja, praticar, para que você aprenda a utilizar esses métodos tão incríveis de reconhecimento de padrões e de previsão. Portanto, chegou a hora de botar a mão na massa e aplicar algumas das técnicas que foram vistas durante os 3 workshops."
   ]
  },
  {
   "cell_type": "markdown",
   "metadata": {
    "id": "5cZmoN5Sgvcs"
   },
   "source": [
    "## Descrição"
   ]
  },
  {
   "cell_type": "markdown",
   "metadata": {
    "id": "2xaxulgfJJsd"
   },
   "source": [
    "**IMPORTANTE**: Você ganhará o certificado do curso caso tenha registrado sua presença nas 3 aulas por meio do formulário de avaliação de cada dia e caso realize este projeto."
   ]
  },
  {
   "cell_type": "markdown",
   "metadata": {
    "id": "B4KUpja1hFun"
   },
   "source": [
    "\n",
    "\n",
    "Vamos partir para a descrição do projeto que você deverá fazer para garantir que você aprendeu como aplicar alguns modelos de Machine Learning e, consequentemente, garantir seu certificado do curso.\n",
    "\n",
    "Você deverá aplicar 3 diferentes técnicas de Machine Learning (lembrando que no curso foram vistas 6 diferentes técnicas) em um dataset que escolhemos. Lembrando que durante o curso, vimos as seguintes técnicas de Machine Learning:\n",
    "*   KNN\n",
    "*   Naive Bayes\n",
    "*   Regressão Linear\n",
    "*   Regressão Logística\n",
    "*   Árvores de Decisão\n",
    "*   Florestas Aleatórias / Random Forest\n",
    "\n",
    "Nós escolhemos o dataset das espécies de uma flor chamada Íris. Esse é um dos datasets mais conhecidos encontrado na literatura de reconhecimento de padrões. O dataset contém 3 classes (rótulos) com 50 instâncias cada, em que cada classe se refere a uma espécie de Íris. Assim, temos o seguinte atributo de classe:\n"
   ]
  },
  {
   "cell_type": "markdown",
   "metadata": {
    "id": "nPzebQmbhXax"
   },
   "source": [
    "Class: Diferentes espécies das plantas \n",
    "\n",
    "\n",
    "*   Iris Setosa\n",
    "*   Iris Versicolour\n",
    "*   Iris Virginica\n",
    "\n",
    "E desejamos prever a espécie da Íris (classe) com base nos seguintes atributos:\n",
    "\n",
    "* **PetalLengthCm:** Comprimento da pétala em cm\n",
    "* **PetalWidthCm:** Largura da pétala em cm\n",
    "* **SepalLengthCm:** Comprimento da sépala em cm\n",
    "* **SepalWidthCm:** Largura da sépala em cm\n",
    "* **Id:** Identificador daquele indivíduo\n",
    "\n"
   ]
  },
  {
   "cell_type": "markdown",
   "metadata": {
    "id": "r7Mk-q3kh4jV"
   },
   "source": [
    "Você deve adicionar alguns comentários no seu código descrevendo algumas das justificativas de seus raciocínios aplicados no código. Por exemplo, explicar o que e porquê você está fazendo alguns passos.\n",
    "\n",
    "Por fim, por meio de comentários no notebook, você deverá, ao final, escrever qual das 3 técnicas escolhidas por você obteve o melhor desempenho, ou seja, que foi mais eficiente. Opcionalmente, seria interessante (para seu próprio conhecimento) justificar a razão daquela técnica ter sido a melhor dentre todas as escolhidas. \n"
   ]
  },
  {
   "cell_type": "markdown",
   "metadata": {},
   "source": [
    "# Análise Íris \n",
    "Possui variável alvo do tipo categórica\n",
    "\n",
    "Utilização de métodos supervisionados: KNN, Naive Bayes e Random Forest"
   ]
  },
  {
   "cell_type": "markdown",
   "metadata": {},
   "source": [
    "# Bibliotecas"
   ]
  },
  {
   "cell_type": "code",
   "execution_count": 138,
   "metadata": {},
   "outputs": [],
   "source": [
    "## Pre processamento\n",
    "from sklearn.preprocessing import MinMaxScaler\n",
    "\n",
    "## KNN\n",
    "from sklearn.neighbors import KNeighborsClassifier\n",
    "from sklearn.model_selection import train_test_split\n",
    "from sklearn.model_selection import cross_validate\n",
    "\n",
    "## Naive Bayes\n",
    "from sklearn.preprocessing import StandardScaler\n",
    "from sklearn.naive_bayes import GaussianNB\n",
    "from sklearn.metrics import f1_score\n",
    "\n",
    "## Random Forest\n",
    "from sklearn.ensemble import RandomForestClassifier"
   ]
  },
  {
   "cell_type": "markdown",
   "metadata": {},
   "source": [
    "# Pré processamento"
   ]
  },
  {
   "cell_type": "code",
   "execution_count": 139,
   "metadata": {},
   "outputs": [
    {
     "data": {
      "text/html": [
       "<div>\n",
       "<style scoped>\n",
       "    .dataframe tbody tr th:only-of-type {\n",
       "        vertical-align: middle;\n",
       "    }\n",
       "\n",
       "    .dataframe tbody tr th {\n",
       "        vertical-align: top;\n",
       "    }\n",
       "\n",
       "    .dataframe thead th {\n",
       "        text-align: right;\n",
       "    }\n",
       "</style>\n",
       "<table border=\"1\" class=\"dataframe\">\n",
       "  <thead>\n",
       "    <tr style=\"text-align: right;\">\n",
       "      <th></th>\n",
       "      <th>Id</th>\n",
       "      <th>SepalLengthCm</th>\n",
       "      <th>SepalWidthCm</th>\n",
       "      <th>PetalLengthCm</th>\n",
       "      <th>PetalWidthCm</th>\n",
       "      <th>Species</th>\n",
       "    </tr>\n",
       "  </thead>\n",
       "  <tbody>\n",
       "    <tr>\n",
       "      <th>0</th>\n",
       "      <td>1</td>\n",
       "      <td>5.1</td>\n",
       "      <td>3.5</td>\n",
       "      <td>1.4</td>\n",
       "      <td>0.2</td>\n",
       "      <td>Iris-setosa</td>\n",
       "    </tr>\n",
       "    <tr>\n",
       "      <th>1</th>\n",
       "      <td>2</td>\n",
       "      <td>4.9</td>\n",
       "      <td>3.0</td>\n",
       "      <td>1.4</td>\n",
       "      <td>0.2</td>\n",
       "      <td>Iris-setosa</td>\n",
       "    </tr>\n",
       "    <tr>\n",
       "      <th>2</th>\n",
       "      <td>3</td>\n",
       "      <td>4.7</td>\n",
       "      <td>3.2</td>\n",
       "      <td>1.3</td>\n",
       "      <td>0.2</td>\n",
       "      <td>Iris-setosa</td>\n",
       "    </tr>\n",
       "    <tr>\n",
       "      <th>3</th>\n",
       "      <td>4</td>\n",
       "      <td>4.6</td>\n",
       "      <td>3.1</td>\n",
       "      <td>1.5</td>\n",
       "      <td>0.2</td>\n",
       "      <td>Iris-setosa</td>\n",
       "    </tr>\n",
       "    <tr>\n",
       "      <th>4</th>\n",
       "      <td>5</td>\n",
       "      <td>5.0</td>\n",
       "      <td>3.6</td>\n",
       "      <td>1.4</td>\n",
       "      <td>0.2</td>\n",
       "      <td>Iris-setosa</td>\n",
       "    </tr>\n",
       "  </tbody>\n",
       "</table>\n",
       "</div>"
      ],
      "text/plain": [
       "   Id  SepalLengthCm  SepalWidthCm  PetalLengthCm  PetalWidthCm      Species\n",
       "0   1            5.1           3.5            1.4           0.2  Iris-setosa\n",
       "1   2            4.9           3.0            1.4           0.2  Iris-setosa\n",
       "2   3            4.7           3.2            1.3           0.2  Iris-setosa\n",
       "3   4            4.6           3.1            1.5           0.2  Iris-setosa\n",
       "4   5            5.0           3.6            1.4           0.2  Iris-setosa"
      ]
     },
     "execution_count": 139,
     "metadata": {},
     "output_type": "execute_result"
    }
   ],
   "source": [
    "df = pd.read_csv('https://raw.githubusercontent.com/semcovici/Datasets/main/Iris.csv')\n",
    "df.head()"
   ]
  },
  {
   "cell_type": "markdown",
   "metadata": {},
   "source": [
    "## Removendo coluna Id"
   ]
  },
  {
   "cell_type": "code",
   "execution_count": 140,
   "metadata": {},
   "outputs": [],
   "source": [
    "#Remover coluna Id\n",
    "df = df.drop(columns=['Id'])"
   ]
  },
  {
   "cell_type": "markdown",
   "metadata": {},
   "source": [
    "## Escala variáveis numéricas"
   ]
  },
  {
   "cell_type": "code",
   "execution_count": 141,
   "metadata": {},
   "outputs": [],
   "source": [
    "df_nums = df[['SepalLengthCm',\t'SepalWidthCm',\t'PetalLengthCm', 'PetalWidthCm']]\n",
    "columns_df = df_nums.columns\n",
    "\n",
    "scaler = MinMaxScaler()\n",
    "scaler_data = scaler.fit_transform(df_nums)\n",
    "\n",
    "df_final = pd.DataFrame(scaler_data, columns = columns_df)\n",
    "\n",
    "##Juntando variáveis numéricas com variável alvo\n",
    "df_final = pd.concat([df_final, df.Species], axis=1)"
   ]
  },
  {
   "cell_type": "markdown",
   "metadata": {},
   "source": [
    "# KNN"
   ]
  },
  {
   "cell_type": "markdown",
   "metadata": {},
   "source": [
    "## Treino com validação cruzada"
   ]
  },
  {
   "cell_type": "code",
   "execution_count": 142,
   "metadata": {},
   "outputs": [
    {
     "name": "stdout",
     "output_type": "stream",
     "text": [
      "K: 1 | Train F1: 1.0 | Validation F1: 0.9343118090486511\n",
      "K: 3 | Train F1: 0.9594149659499507 | Validation F1: 0.9345698951890903\n",
      "K: 5 | Train F1: 0.957214828458494 | Validation F1: 0.945001915296033\n",
      "K: 7 | Train F1: 0.9482013415816866 | Validation F1: 0.9437805538115136\n",
      "K: 9 | Train F1: 0.9503920642126357 | Validation F1: 0.9339087589397188\n",
      "K: 15 | Train F1: 0.9345247062501052 | Validation F1: 0.915424596043791\n"
     ]
    }
   ],
   "source": [
    "X = df[['SepalLengthCm','SepalWidthCm','PetalLengthCm']]\n",
    "y = df['Species']\n",
    "\n",
    "X_train, X_test, y_train, y_test = train_test_split(\n",
    "    X, y, test_size=0.30, random_state=42)\n",
    "\n",
    "k_list = [1,3,5,7,9,15]\n",
    "\n",
    "for k in k_list:\n",
    "    knn_results = cross_validate(KNeighborsClassifier(n_neighbors=k), \n",
    "                              X_train, \n",
    "                              y_train, \n",
    "                              cv=5, \n",
    "                              scoring=['f1_macro'], \n",
    "                              return_train_score=True)\n",
    "    print(\"K:\", \n",
    "            k, \n",
    "            \"| Train F1:\", \n",
    "            knn_results['train_f1_macro'].mean(),\n",
    "            \"| Validation F1:\", \n",
    "            knn_results['test_f1_macro'].mean()\n",
    "    )\n",
    "    "
   ]
  },
  {
   "cell_type": "markdown",
   "metadata": {},
   "source": [
    "## Teste\n",
    "KNN apresentou bons resultados, com good fit para um k vizinhos relativamente baixo"
   ]
  },
  {
   "cell_type": "code",
   "execution_count": 143,
   "metadata": {},
   "outputs": [
    {
     "name": "stdout",
     "output_type": "stream",
     "text": [
      "Test: 0.9487179487179488\n",
      "\n",
      "Test: 0.9487179487179488\n",
      "\n",
      "Test: 0.9487179487179488\n",
      "\n",
      "Test: 0.9487179487179488\n",
      "\n",
      "Test: 0.9487179487179488\n",
      "\n"
     ]
    }
   ],
   "source": [
    "for i in range(5):\n",
    "    clf = KNeighborsClassifier(n_neighbors=5) # melhor k\n",
    "    clf.fit(X_train, y_train)\n",
    "    y_pred = clf.predict(X_test)\n",
    "    knn_resultado = f1_score(y_test, y_pred, average='macro')\n",
    "    print(\"Test:\", knn_resultado)\n",
    "    print()"
   ]
  },
  {
   "cell_type": "markdown",
   "metadata": {},
   "source": [
    "# Naive Bayes (Gaussian)"
   ]
  },
  {
   "cell_type": "markdown",
   "metadata": {},
   "source": [
    "## Treino com validação cruzada"
   ]
  },
  {
   "cell_type": "code",
   "execution_count": 144,
   "metadata": {},
   "outputs": [
    {
     "name": "stdout",
     "output_type": "stream",
     "text": [
      "| Train f1_macro: 0.8895148663561278 | Validation f1_macro: 0.8779629629629631\n"
     ]
    }
   ],
   "source": [
    "scaler = StandardScaler()\n",
    "\n",
    "X = scaler.fit_transform(df[['SepalLengthCm','SepalWidthCm','PetalLengthCm']])\n",
    "y = df['Species']\n",
    "\n",
    "# Separação dos dados\n",
    "X_train, X_test, y_train, y_test = train_test_split(\n",
    "    X, y, test_size=0.3, random_state=42)\n",
    "\n",
    "cv_results = cross_validate(GaussianNB(), \n",
    "                            X_train, \n",
    "                            y_train, \n",
    "                            cv=10, \n",
    "                            scoring=['f1_macro'], \n",
    "                            return_train_score=True)\n",
    "\n",
    "print(\"| Train f1_macro:\", \n",
    "      cv_results['train_f1_macro'].mean(),\n",
    "      \"| Validation f1_macro:\", \n",
    "      cv_results['test_f1_macro'].mean()\n",
    ")"
   ]
  },
  {
   "cell_type": "markdown",
   "metadata": {},
   "source": [
    "## Teste\n",
    "Apresentou good fit com f1 bom, porém inferior ao KNN"
   ]
  },
  {
   "cell_type": "code",
   "execution_count": 145,
   "metadata": {},
   "outputs": [
    {
     "name": "stdout",
     "output_type": "stream",
     "text": [
      "Test: 0.8716049382716049\n",
      "\n",
      "Test: 0.8716049382716049\n",
      "\n",
      "Test: 0.8716049382716049\n",
      "\n",
      "Test: 0.8716049382716049\n",
      "\n",
      "Test: 0.8716049382716049\n",
      "\n"
     ]
    }
   ],
   "source": [
    "for i in range(5):\n",
    "    clf = GaussianNB()\n",
    "    clf.fit(X_train, y_train)\n",
    "    y_pred = clf.predict(X_test)\n",
    "    nb_resultado = f1_score(y_test, y_pred, average='macro')\n",
    "    print(\"Test:\",  nb_resultado)\n",
    "    print()"
   ]
  },
  {
   "cell_type": "markdown",
   "metadata": {},
   "source": [
    "# Random Forest"
   ]
  },
  {
   "cell_type": "markdown",
   "metadata": {},
   "source": [
    "## Treino com validação cruzada entre hiperparâmetros"
   ]
  },
  {
   "cell_type": "code",
   "execution_count": 152,
   "metadata": {},
   "outputs": [
    {
     "name": "stdout",
     "output_type": "stream",
     "text": [
      "max_samples: 0.5 n_estimators 100 max_features sqrt | Train F1: 0.9799617912084988 | Validation F1: 0.9065079365079365\n",
      "max_samples: None n_estimators 100 max_features sqrt | Train F1: 0.9990049751243781 | Validation F1: 0.925952380952381\n",
      "max_samples: 0.5 n_estimators 200 max_features sqrt | Train F1: 0.9809865454026999 | Validation F1: 0.9067195767195768\n",
      "max_samples: None n_estimators 200 max_features sqrt | Train F1: 1.0 | Validation F1: 0.916031746031746\n"
     ]
    }
   ],
   "source": [
    "X = df[['SepalLengthCm','SepalWidthCm','PetalLengthCm']]\n",
    "y = df['Species']\n",
    "\n",
    "X_train, X_test, y_train, y_test = train_test_split(\n",
    "    X, y, test_size=0.3, random_state=42)\n",
    "\n",
    "max_samples = [0.5, None]\n",
    "n_estimators = [100, 200]\n",
    "max_features = ['sqrt']\n",
    "\n",
    "for n_estimator in n_estimators:\n",
    "  for max_sample in max_samples:\n",
    "    for max_feature in max_features:        \n",
    "      rf_results = cross_validate(RandomForestClassifier(criterion='entropy', \n",
    "                                                         max_samples=max_sample, \n",
    "                                                         max_features=max_feature,\n",
    "                                                         n_estimators=n_estimator), \n",
    "                                  X_train, \n",
    "                                  y_train, \n",
    "                                  cv=10, \n",
    "                                  scoring=['f1_macro'], \n",
    "                                  return_train_score=True)\n",
    "      \n",
    "      print(\"max_samples:\", max_sample, \n",
    "            \"n_estimators\", n_estimator,\n",
    "            \"max_features\", max_feature,\n",
    "            \"| Train F1:\", rf_results['train_f1_macro'].mean(),\n",
    "            \"| Validation F1:\", rf_results['test_f1_macro'].mean()\n",
    "      )"
   ]
  },
  {
   "cell_type": "markdown",
   "metadata": {},
   "source": [
    "## Teste\n",
    "RF apresentou bom resultado, porém com um pouco de overfit e com um tempo de execução bem maior do que os demais métodos.\n",
    "\n",
    "Apresentou também muitas variações no resultados, variando até 8%"
   ]
  },
  {
   "cell_type": "code",
   "execution_count": 154,
   "metadata": {},
   "outputs": [
    {
     "name": "stdout",
     "output_type": "stream",
     "text": [
      "Test: 0.9487179487179488\n",
      "\n",
      "Test: 0.9229629629629629\n",
      "\n",
      "Test: 0.9229629629629629\n",
      "\n",
      "Test: 0.974320987654321\n",
      "\n",
      "Test: 0.9484126984126983\n",
      "\n"
     ]
    }
   ],
   "source": [
    "rf_media = 0\n",
    "\n",
    "for i in range(5):\n",
    "    clf = RandomForestClassifier(\n",
    "        criterion='entropy', \n",
    "        max_samples=None, \n",
    "        max_features='sqrt',\n",
    "        n_estimators=100) \n",
    "    clf.fit(X_train, y_train)\n",
    "    y_pred = clf.predict(X_test)\n",
    "    rf_resultado = f1_score(y_test, y_pred, average='macro')\n",
    "    print(\"Test:\", rf_resultado)\n",
    "    rf_media = rf_media + rf_resultado\n",
    "    print()\n",
    "rf_media = rf_media / 5\n"
   ]
  },
  {
   "cell_type": "markdown",
   "metadata": {},
   "source": [
    "# Conclusão final"
   ]
  },
  {
   "cell_type": "markdown",
   "metadata": {},
   "source": [
    "Através dos resultados expostos teremos o KNN como método escolhido, pois apresentou a melhor e mais estável métrica em relação aos demais métodos e ficou numa faixa muito boa de fitting.\n",
    "\n",
    "Pontos negativos:\n",
    "\n",
    "Random Forest: Alto tempo de processamento, alta variação das métricas (cada execução dava um resultado f1 diferente), e devido a isso o fitting também acabou variando muito, mas na maioria dos casos houve overfit.\n",
    "\n",
    "Naive Bayes: Não foi perceptível pontos negativos, apenas resultado inferior ao KNN."
   ]
  },
  {
   "cell_type": "code",
   "execution_count": 155,
   "metadata": {},
   "outputs": [
    {
     "data": {
      "text/plain": [
       "<AxesSubplot:>"
      ]
     },
     "execution_count": 155,
     "metadata": {},
     "output_type": "execute_result"
    },
    {
     "data": {
      "image/png": "[encoded data removed]",
      "text/plain": [
       "<Figure size 648x504 with 1 Axes>"
      ]
     },
     "metadata": {
      "needs_background": "light"
     },
     "output_type": "display_data"
    }
   ],
   "source": [
    "metodos = [[knn_resultado, nb_resultado, rf_media]]\n",
    "\n",
    "df_metodos = pd.DataFrame(metodos, columns=['KNN', 'Naive Bayes', 'Random Forest'])\n",
    "\n",
    "df_metodos.plot(kind='bar', figsize=(9,7))"
   ]
  }
 ],
 "metadata": {
  "colab": {
   "collapsed_sections": [],
   "provenance": []
  },
  "kernelspec": {
   "display_name": "Python 3 (ipykernel)",
   "language": "python",
   "name": "python3"
  },
  "language_info": {
   "codemirror_mode": {
    "name": "ipython",
    "version": 3
   },
   "file_extension": ".py",
   "mimetype": "text/x-python",
   "name": "python",
   "nbconvert_exporter": "python",
   "pygments_lexer": "ipython3",
   "version": "3.10.5"
  },
  "vscode": {
   "interpreter": {
    "hash": "b84898e6586acd69537310763ef825406d2244fa33c6d73c1c13cfdc803619c0"
   }
  }
 },
 "nbformat": 4,
 "nbformat_minor": 1
}
