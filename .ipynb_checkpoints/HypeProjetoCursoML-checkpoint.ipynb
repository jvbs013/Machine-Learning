{
 "cells": [
  {
   "cell_type": "markdown",
   "metadata": {
    "id": "XNDaL5OtggrF"
   },
   "source": [
    "## Apresentação "
   ]
  },
  {
   "cell_type": "markdown",
   "metadata": {
    "id": "mJ4TsGkhgqe4"
   },
   "source": [
    "Olá, participante! Estamos muito felizes por você ter participado do \n",
    "nosso curso de Machine Learning! Porém, para ser um profissional que faz um bom uso das técnicas de Machine Learning, não basta conhecer as teorias e os conceitos de diferentes técnicas. É necessário aplicá-las, ou seja, praticar, para que você aprenda a utilizar esses métodos tão incríveis de reconhecimento de padrões e de previsão. Portanto, chegou a hora de botar a mão na massa e aplicar algumas das técnicas que foram vistas durante os 3 workshops."
   ]
  },
  {
   "cell_type": "markdown",
   "metadata": {
    "id": "5cZmoN5Sgvcs"
   },
   "source": [
    "## Descrição"
   ]
  },
  {
   "cell_type": "markdown",
   "metadata": {
    "id": "2xaxulgfJJsd"
   },
   "source": [
    "**IMPORTANTE**: Você ganhará o certificado do curso caso tenha registrado sua presença nas 3 aulas por meio do formulário de avaliação de cada dia e caso realize este projeto."
   ]
  },
  {
   "cell_type": "markdown",
   "metadata": {
    "id": "B4KUpja1hFun"
   },
   "source": [
    "\n",
    "\n",
    "Vamos partir para a descrição do projeto que você deverá fazer para garantir que você aprendeu como aplicar alguns modelos de Machine Learning e, consequentemente, garantir seu certificado do curso.\n",
    "\n",
    "Você deverá aplicar 3 diferentes técnicas de Machine Learning (lembrando que no curso foram vistas 6 diferentes técnicas) em um dataset que escolhemos. Lembrando que durante o curso, vimos as seguintes técnicas de Machine Learning:\n",
    "*   KNN\n",
    "*   Naive Bayes\n",
    "*   Regressão Linear\n",
    "*   Regressão Logística\n",
    "*   Árvores de Decisão\n",
    "*   Florestas Aleatórias / Random Forest\n",
    "\n",
    "Nós escolhemos o dataset das espécies de uma flor chamada Íris. Esse é um dos datasets mais conhecidos encontrado na literatura de reconhecimento de padrões. O dataset contém 3 classes (rótulos) com 50 instâncias cada, em que cada classe se refere a uma espécie de Íris. Assim, temos o seguinte atributo de classe:\n"
   ]
  },
  {
   "cell_type": "markdown",
   "metadata": {
    "id": "nPzebQmbhXax"
   },
   "source": [
    "Class: Diferentes espécies das plantas \n",
    "\n",
    "\n",
    "*   Iris Setosa\n",
    "*   Iris Versicolour\n",
    "*   Iris Virginica\n",
    "\n",
    "E desejamos prever a espécie da Íris (classe) com base nos seguintes atributos:\n",
    "\n",
    "* **PetalLengthCm:** Comprimento da pétala em cm\n",
    "* **PetalWidthCm:** Largura da pétala em cm\n",
    "* **SepalLengthCm:** Comprimento da sépala em cm\n",
    "* **SepalWidthCm:** Largura da sépala em cm\n",
    "* **Id:** Identificador daquele indivíduo\n",
    "\n"
   ]
  },
  {
   "cell_type": "markdown",
   "metadata": {
    "id": "r7Mk-q3kh4jV"
   },
   "source": [
    "Você deve adicionar alguns comentários no seu código descrevendo algumas das justificativas de seus raciocínios aplicados no código. Por exemplo, explicar o que e porquê você está fazendo alguns passos.\n",
    "\n",
    "Por fim, por meio de comentários no notebook, você deverá, ao final, escrever qual das 3 técnicas escolhidas por você obteve o melhor desempenho, ou seja, que foi mais eficiente. Opcionalmente, seria interessante (para seu próprio conhecimento) justificar a razão daquela técnica ter sido a melhor dentre todas as escolhidas. \n"
   ]
  },
  {
   "cell_type": "markdown",
   "metadata": {
    "id": "ACVHEMKZGKak"
   },
   "source": [
    "# Dicas"
   ]
  },
  {
   "cell_type": "markdown",
   "metadata": {
    "id": "ut_vB68zB943"
   },
   "source": [
    "Uma dica inicial: procure saber se esse problema é um problema de natureza de Classificação ou de Regressão. Depois, aplique 3 técnicas que resolvam o  problema da natureza do dataset. "
   ]
  },
  {
   "cell_type": "markdown",
   "metadata": {
    "id": "FzHOzrm2AuhW"
   },
   "source": [
    "Caso você tenha dificuldade ou dúvida, saiba que há muito conteúdo na disponível na internet (vídeos e textos em sites) sobre aplicação de modelos de Machine Learning. Portanto, incentivamos que você pesquise aquilo que você não saiba, para que você possa expandir seu conhecimento na área o máximo possível!"
   ]
  },
  {
   "cell_type": "markdown",
   "metadata": {
    "id": "13V4I3A4GRpm"
   },
   "source": [
    "Caso você queira rever alguma coisa das aulas que foram ministradas durante o curso, aqui temos nossa playlist no Youtube com as aulas do curso gravadas: https://bit.ly/3McDl0c"
   ]
  },
  {
   "cell_type": "markdown",
   "metadata": {
    "id": "ulCydtg_iHAt"
   },
   "source": [
    "## Entrega\n"
   ]
  },
  {
   "cell_type": "markdown",
   "metadata": {
    "id": "rZkNqDzYiKh7"
   },
   "source": [
    "Quando tiver finalizado sua análise, você deverá fazer o download do seu código escrito em Python e enviá-lo para nós por email em um arquivo no formato .ipynb  \n",
    "\n",
    "\n",
    "\n"
   ]
  },
  {
   "cell_type": "markdown",
   "metadata": {
    "id": "pK2WKXabDf4R"
   },
   "source": [
    "Envie para o email: hype-each@usp.br\n",
    "\n",
    "Envie com o seguinte assunto: Entrega do case do curso de machine learning"
   ]
  },
  {
   "cell_type": "markdown",
   "metadata": {
    "id": "BOmdpcKaU33P"
   },
   "source": [
    "Caso esteja no Google Colab, faça o download do seu arquivo clicando na parte superior do site em:\n",
    "\n",
    "Arquivo -> Fazer download -> Fazer o downloado do .ipynb"
   ]
  },
  {
   "cell_type": "markdown",
   "metadata": {
    "id": "liNiRgrdU5wU"
   },
   "source": [
    "A data de entrega é até às 23:59 de **30/10** (domingo)."
   ]
  },
  {
   "cell_type": "code",
   "execution_count": 3,
   "metadata": {
    "executionInfo": {
     "elapsed": 686,
     "status": "ok",
     "timestamp": 1665156804784,
     "user": {
      "displayName": "Hype Each USP",
      "userId": "01201711193834616160"
     },
     "user_tz": 180
    },
    "id": "IFlxVdjhiJl4"
   },
   "outputs": [],
   "source": [
    "# importação de biblioteca inicial\n",
    "import pandas as pd\n",
    "# importe as outras bibliotecas que utilizará a seguir "
   ]
  },
  {
   "cell_type": "code",
   "execution_count": 4,
   "metadata": {
    "executionInfo": {
     "elapsed": 668,
     "status": "ok",
     "timestamp": 1665156806477,
     "user": {
      "displayName": "Hype Each USP",
      "userId": "01201711193834616160"
     },
     "user_tz": 180
    },
    "id": "Uk-Ju_sTlR2c"
   },
   "outputs": [],
   "source": [
    "# leitura do arquivo csv\n",
    "df = pd.read_csv('https://raw.githubusercontent.com/semcovici/Datasets/main/Iris.csv')"
   ]
  },
  {
   "cell_type": "code",
   "execution_count": 5,
   "metadata": {
    "colab": {
     "base_uri": "https://localhost:8080/",
     "height": 250
    },
    "id": "P1HoSs05nZPC",
    "outputId": "8334f9a4-ef4d-4fee-9e2a-6a602f5d4575"
   },
   "outputs": [
    {
     "data": {
      "text/html": [
       "<div>\n",
       "<style scoped>\n",
       "    .dataframe tbody tr th:only-of-type {\n",
       "        vertical-align: middle;\n",
       "    }\n",
       "\n",
       "    .dataframe tbody tr th {\n",
       "        vertical-align: top;\n",
       "    }\n",
       "\n",
       "    .dataframe thead th {\n",
       "        text-align: right;\n",
       "    }\n",
       "</style>\n",
       "<table border=\"1\" class=\"dataframe\">\n",
       "  <thead>\n",
       "    <tr style=\"text-align: right;\">\n",
       "      <th></th>\n",
       "      <th>Id</th>\n",
       "      <th>SepalLengthCm</th>\n",
       "      <th>SepalWidthCm</th>\n",
       "      <th>PetalLengthCm</th>\n",
       "      <th>PetalWidthCm</th>\n",
       "      <th>Species</th>\n",
       "    </tr>\n",
       "  </thead>\n",
       "  <tbody>\n",
       "    <tr>\n",
       "      <th>0</th>\n",
       "      <td>1</td>\n",
       "      <td>5.1</td>\n",
       "      <td>3.5</td>\n",
       "      <td>1.4</td>\n",
       "      <td>0.2</td>\n",
       "      <td>Iris-setosa</td>\n",
       "    </tr>\n",
       "    <tr>\n",
       "      <th>1</th>\n",
       "      <td>2</td>\n",
       "      <td>4.9</td>\n",
       "      <td>3.0</td>\n",
       "      <td>1.4</td>\n",
       "      <td>0.2</td>\n",
       "      <td>Iris-setosa</td>\n",
       "    </tr>\n",
       "    <tr>\n",
       "      <th>2</th>\n",
       "      <td>3</td>\n",
       "      <td>4.7</td>\n",
       "      <td>3.2</td>\n",
       "      <td>1.3</td>\n",
       "      <td>0.2</td>\n",
       "      <td>Iris-setosa</td>\n",
       "    </tr>\n",
       "    <tr>\n",
       "      <th>3</th>\n",
       "      <td>4</td>\n",
       "      <td>4.6</td>\n",
       "      <td>3.1</td>\n",
       "      <td>1.5</td>\n",
       "      <td>0.2</td>\n",
       "      <td>Iris-setosa</td>\n",
       "    </tr>\n",
       "    <tr>\n",
       "      <th>4</th>\n",
       "      <td>5</td>\n",
       "      <td>5.0</td>\n",
       "      <td>3.6</td>\n",
       "      <td>1.4</td>\n",
       "      <td>0.2</td>\n",
       "      <td>Iris-setosa</td>\n",
       "    </tr>\n",
       "  </tbody>\n",
       "</table>\n",
       "</div>"
      ],
      "text/plain": [
       "   Id  SepalLengthCm  SepalWidthCm  PetalLengthCm  PetalWidthCm      Species\n",
       "0   1            5.1           3.5            1.4           0.2  Iris-setosa\n",
       "1   2            4.9           3.0            1.4           0.2  Iris-setosa\n",
       "2   3            4.7           3.2            1.3           0.2  Iris-setosa\n",
       "3   4            4.6           3.1            1.5           0.2  Iris-setosa\n",
       "4   5            5.0           3.6            1.4           0.2  Iris-setosa"
      ]
     },
     "execution_count": 5,
     "metadata": {},
     "output_type": "execute_result"
    }
   ],
   "source": [
    "# visualização das 5 primeiras linhas do dataset\n",
    "df.head()"
   ]
  },
  {
   "cell_type": "markdown",
   "metadata": {
    "id": "ySH7_YF9qSNZ"
   },
   "source": [
    "Desenvolva o projeto descrito acima e nos envie o aquivo .ipynb "
   ]
  },
  {
   "cell_type": "markdown",
   "metadata": {
    "id": "XJBpaa-NTbLp"
   },
   "source": [
    "A data de entrega é até às 23:59 de **30/10** (domingo)."
   ]
  },
  {
   "cell_type": "markdown",
   "metadata": {},
   "source": [
    "# Problema de classificação\n",
    "Portanto temos 4 ténicas: KNN, Naive Bayes, Árvore de decisao e Florestas Aleatórias.\n"
   ]
  },
  {
   "cell_type": "code",
   "execution_count": 22,
   "metadata": {},
   "outputs": [],
   "source": [
    "df = df.drop(columns=['Id'])"
   ]
  },
  {
   "cell_type": "markdown",
   "metadata": {},
   "source": [
    "# KNN"
   ]
  },
  {
   "cell_type": "markdown",
   "metadata": {},
   "source": [
    "Bibliotecas"
   ]
  },
  {
   "cell_type": "code",
   "execution_count": 25,
   "metadata": {},
   "outputs": [],
   "source": [
    "from sklearn.neighbors import KNeighborsClassifier\n",
    "from sklearn.metrics import classification_report\n",
    "from sklearn.model_selection import train_test_split\n",
    "from sklearn.model_selection import cross_validate"
   ]
  },
  {
   "cell_type": "markdown",
   "metadata": {},
   "source": [
    "Treino/Teste com validação cruzada"
   ]
  },
  {
   "cell_type": "code",
   "execution_count": 33,
   "metadata": {},
   "outputs": [
    {
     "data": {
      "text/plain": [
       "{'fit_time': array([0.00210786, 0.00099945, 0.00100088, 0.00200009, 0.00200057]),\n",
       " 'score_time': array([0.00150371, 0.00200081, 0.00199962, 0.00100017, 0.0010004 ]),\n",
       " 'test_accuracy': array([0.95238095, 0.9047619 , 0.9047619 , 1.        , 0.95238095]),\n",
       " 'train_accuracy': array([0.94047619, 0.95238095, 0.98809524, 0.95238095, 0.94047619]),\n",
       " 'test_f1_macro': array([0.95475113, 0.91071429, 0.90740741, 1.        , 0.95213675]),\n",
       " 'train_f1_macro': array([0.94350282, 0.95478927, 0.98868757, 0.95478927, 0.94430521])}"
      ]
     },
     "execution_count": 33,
     "metadata": {},
     "output_type": "execute_result"
    }
   ],
   "source": [
    "X = df[['SepalLengthCm','SepalWidthCm','PetalLengthCm']]\n",
    "y = df['Species']\n",
    "\n",
    "X_train, X_test, y_train, y_test = train_test_split(\n",
    "    X, y, test_size=0.3, random_state=42)\n",
    "\n",
    "cross_validate(KNeighborsClassifier(), \n",
    "               X_train, \n",
    "               y_train, \n",
    "               cv=5, \n",
    "               scoring=['accuracy', 'f1_macro'], \n",
    "               return_train_score=True)"
   ]
  },
  {
   "cell_type": "code",
   "execution_count": 27,
   "metadata": {},
   "outputs": [
    {
     "name": "stdout",
     "output_type": "stream",
     "text": [
      "                 precision    recall  f1-score   support\n",
      "\n",
      "    Iris-setosa       1.00      1.00      1.00        19\n",
      "Iris-versicolor       0.92      0.92      0.92        13\n",
      " Iris-virginica       0.92      0.92      0.92        13\n",
      "\n",
      "       accuracy                           0.96        45\n",
      "      macro avg       0.95      0.95      0.95        45\n",
      "   weighted avg       0.96      0.96      0.96        45\n",
      "\n"
     ]
    }
   ],
   "source": [
    "# Treino e Teste\n",
    "clf = KNeighborsClassifier()\n",
    "clf.fit(X_train, y_train)\n",
    "\n",
    "y_pred = clf.predict(X_test)\n",
    "print(classification_report(y_test, y_pred))"
   ]
  },
  {
   "cell_type": "markdown",
   "metadata": {},
   "source": []
  }
 ],
 "metadata": {
  "colab": {
   "collapsed_sections": [],
   "provenance": []
  },
  "kernelspec": {
   "display_name": "Python 3 (ipykernel)",
   "language": "python",
   "name": "python3"
  },
  "language_info": {
   "codemirror_mode": {
    "name": "ipython",
    "version": 3
   },
   "file_extension": ".py",
   "mimetype": "text/x-python",
   "name": "python",
   "nbconvert_exporter": "python",
   "pygments_lexer": "ipython3",
   "version": "3.9.12"
  },
  "vscode": {
   "interpreter": {
    "hash": "b84898e6586acd69537310763ef825406d2244fa33c6d73c1c13cfdc803619c0"
   }
  }
 },
 "nbformat": 4,
 "nbformat_minor": 1
}
